{
 "cells": [
  {
   "cell_type": "code",
   "execution_count": 1,
   "id": "0fe55dc7",
   "metadata": {},
   "outputs": [],
   "source": [
    "import numpy as np"
   ]
  },
  {
   "cell_type": "code",
   "execution_count": 2,
   "id": "36cba40e",
   "metadata": {},
   "outputs": [],
   "source": [
    "# Rows = Days, Columns = Cities [City A, City B, City C]\n",
    "temps = np.array([\n",
    "    [32, 30, 35],  # Day 1\n",
    "    [33, 29, 36],  # Day 2\n",
    "    [35, 31, 38],  # Day 3\n",
    "    [36, 33, 37],  # Day 4\n",
    "    [34, 30, 36],  # Day 5\n",
    "    [32, 28, 35],  # Day 6\n",
    "    [31, 27, 34]   # Day 7\n",
    "])"
   ]
  },
  {
   "cell_type": "code",
   "execution_count": 3,
   "id": "08fc8339",
   "metadata": {},
   "outputs": [
    {
     "name": "stdout",
     "output_type": "stream",
     "text": [
      "The average of each city is [33.28571429 29.71428571 35.85714286]\n"
     ]
    }
   ],
   "source": [
    "#to calculate average\n",
    "avg_city=np.mean(temps,axis=0)\n",
    "print(\"The average of each city is\",avg_city)"
   ]
  },
  {
   "cell_type": "code",
   "execution_count": 5,
   "id": "a5b6f5dd",
   "metadata": {},
   "outputs": [
    {
     "name": "stdout",
     "output_type": "stream",
     "text": [
      "Hottest day for each day [3 3 2]\n"
     ]
    }
   ],
   "source": [
    "#To calculate hottest day of the city\n",
    "hottest_days=np.argmax(temps,axis=0)\n",
    "print(\"Hottest day for each day\",hottest_days)"
   ]
  },
  {
   "cell_type": "code",
   "execution_count": 9,
   "id": "c5b57c90",
   "metadata": {},
   "outputs": [
    {
     "data": {
      "text/plain": [
       "array([ 97,  98, 104, 106, 100,  95,  92])"
      ]
     },
     "execution_count": 9,
     "metadata": {},
     "output_type": "execute_result"
    }
   ],
   "source": [
    "#Add total temperatures column\n",
    "total_temp = np.sum(temps, axis=1).reshape(-1, 1)\n",
    "new_data = np.append(temps, total_temp, axis=1)\n",
    "print(\"Data with total temp per day:\\n\", new_data)"
   ]
  },
  {
   "cell_type": "code",
   "execution_count": 13,
   "id": "878f85e1",
   "metadata": {},
   "outputs": [
    {
     "name": "stdout",
     "output_type": "stream",
     "text": [
      "Days sorted by total heat: [7 6 1 2 5 3 4]\n"
     ]
    }
   ],
   "source": [
    "#Sort days by total heat\n",
    "sort_indices=np.argsort(total_temp.flatten())\n",
    "print(\"Days sorted by total heat:\",sort_indices+1)"
   ]
  },
  {
   "cell_type": "code",
   "execution_count": 15,
   "id": "bdbe9785",
   "metadata": {},
   "outputs": [
    {
     "name": "stdout",
     "output_type": "stream",
     "text": [
      "Day with sudden temperature drop: 5\n"
     ]
    }
   ],
   "source": [
    "#Find the day with sudden temperature drop\n",
    "temp_diff = np.diff(np.mean(temps, axis=1))\n",
    "sudden_drop_day = np.argmin(temp_diff) + 2  # +2 because diff skips first day\n",
    "print(\"Day with sudden temperature drop:\", sudden_drop_day)"
   ]
  },
  {
   "cell_type": "code",
   "execution_count": null,
   "id": "0e295f8e",
   "metadata": {},
   "outputs": [],
   "source": []
  }
 ],
 "metadata": {
  "kernelspec": {
   "display_name": "Python 3 (ipykernel)",
   "language": "python",
   "name": "python3"
  },
  "language_info": {
   "codemirror_mode": {
    "name": "ipython",
    "version": 3
   },
   "file_extension": ".py",
   "mimetype": "text/x-python",
   "name": "python",
   "nbconvert_exporter": "python",
   "pygments_lexer": "ipython3",
   "version": "3.11.5"
  }
 },
 "nbformat": 4,
 "nbformat_minor": 5
}
